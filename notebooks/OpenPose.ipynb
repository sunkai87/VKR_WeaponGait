{
 "cells": [
  {
   "cell_type": "code",
   "execution_count": 1,
   "id": "459ccb6d",
   "metadata": {},
   "outputs": [],
   "source": [
    "import cv2\n",
    "import numpy as np\n",
    "import matplotlib.pyplot as plt\n",
    "from IPython.display import display, clear_output\n",
    "import time\n",
    "import os"
   ]
  },
  {
   "cell_type": "code",
   "execution_count": 7,
   "id": "4d42d1a4",
   "metadata": {},
   "outputs": [
    {
     "ename": "ModuleNotFoundError",
     "evalue": "No module named 'pyopenpose'",
     "output_type": "error",
     "traceback": [
      "\u001b[1;31m---------------------------------------------------------------------------\u001b[0m",
      "\u001b[1;31mModuleNotFoundError\u001b[0m                       Traceback (most recent call last)",
      "Cell \u001b[1;32mIn[7], line 6\u001b[0m\n\u001b[0;32m      3\u001b[0m os\u001b[38;5;241m.\u001b[39mchdir(openpose_dir)\n\u001b[0;32m      5\u001b[0m \u001b[38;5;66;03m# Загрузка OpenPose\u001b[39;00m\n\u001b[1;32m----> 6\u001b[0m \u001b[38;5;28;01mimport\u001b[39;00m \u001b[38;5;21;01mpyopenpose\u001b[39;00m \u001b[38;5;28;01mas\u001b[39;00m \u001b[38;5;21;01mop\u001b[39;00m\n",
      "\u001b[1;31mModuleNotFoundError\u001b[0m: No module named 'pyopenpose'"
     ]
    }
   ],
   "source": [
    "\n",
    "# Путь к OpenPose (замени на свой)\n",
    "openpose_dir = r\"C:\\Users\\vkash\\Desktop\\openPose\"\n",
    "os.chdir(openpose_dir)\n",
    "\n",
    "# Загрузка OpenPose\n",
    "import pyopenpose as op"
   ]
  },
  {
   "cell_type": "code",
   "execution_count": 8,
   "id": "f88b988f",
   "metadata": {},
   "outputs": [
    {
     "ename": "NameError",
     "evalue": "name 'op' is not defined",
     "output_type": "error",
     "traceback": [
      "\u001b[1;31m---------------------------------------------------------------------------\u001b[0m",
      "\u001b[1;31mNameError\u001b[0m                                 Traceback (most recent call last)",
      "Cell \u001b[1;32mIn[8], line 4\u001b[0m\n\u001b[0;32m      2\u001b[0m params \u001b[38;5;241m=\u001b[39m \u001b[38;5;28mdict\u001b[39m()\n\u001b[0;32m      3\u001b[0m params[\u001b[38;5;124m\"\u001b[39m\u001b[38;5;124mmodel_folder\u001b[39m\u001b[38;5;124m\"\u001b[39m] \u001b[38;5;241m=\u001b[39m \u001b[38;5;124m\"\u001b[39m\u001b[38;5;124mmodels/\u001b[39m\u001b[38;5;124m\"\u001b[39m  \u001b[38;5;66;03m# Папка с моделями в OpenPose\u001b[39;00m\n\u001b[1;32m----> 4\u001b[0m opWrapper \u001b[38;5;241m=\u001b[39m \u001b[43mop\u001b[49m\u001b[38;5;241m.\u001b[39mWrapperPython()\n\u001b[0;32m      5\u001b[0m opWrapper\u001b[38;5;241m.\u001b[39mconfigure(params)\n\u001b[0;32m      6\u001b[0m opWrapper\u001b[38;5;241m.\u001b[39mstart()\n",
      "\u001b[1;31mNameError\u001b[0m: name 'op' is not defined"
     ]
    }
   ],
   "source": [
    "# Настройка OpenPose\n",
    "params = dict()\n",
    "params[\"model_folder\"] = \"models/\"  # Папка с моделями в OpenPose\n",
    "opWrapper = op.WrapperPython()\n",
    "opWrapper.configure(params)\n",
    "opWrapper.start()"
   ]
  },
  {
   "cell_type": "code",
   "execution_count": null,
   "id": "8eac4eff",
   "metadata": {},
   "outputs": [],
   "source": [
    "# Загрузка видео\n",
    "video_path = \"../dataset/normal/normal1.mp4\"  # Укажи свое видео\n",
    "cap = cv2.VideoCapture(video_path)\n",
    "if not cap.isOpened():\n",
    "    print(\"Ошибка: не удалось открыть видео\")\n",
    "    raise SystemExit\n",
    "\n",
    "# Параметры для сохранения\n",
    "width = int(cap.get(cv2.CAP_PROP_FRAME_WIDTH))\n",
    "height = int(cap.get(cv2.CAP_PROP_FRAME_HEIGHT))\n",
    "fps = int(cap.get(cv2.CAP_PROP_FPS))\n",
    "out = cv2.VideoWriter(\"../output_openpose.mp4\", cv2.VideoWriter_fourcc(*\"mp4v\"), fps, (width, height))"
   ]
  },
  {
   "cell_type": "code",
   "execution_count": null,
   "id": "657ecbb7",
   "metadata": {},
   "outputs": [],
   "source": [
    "# Обработка видео\n",
    "while cap.isOpened():\n",
    "    ret, frame = cap.read()\n",
    "    if not ret:\n",
    "        break\n",
    "\n",
    "    # Обработка кадра OpenPose\n",
    "    datum = op.Datum()\n",
    "    datum.cvInputData = frame\n",
    "    opWrapper.emplaceAndPop([datum])\n",
    "\n",
    "    # Рисуем скелет\n",
    "    output_frame = datum.cvOutputData\n",
    "\n",
    "    # Показываем в ноутбуке\n",
    "    plt.figure(figsize=(10, 6))\n",
    "    plt.imshow(cv2.cvtColor(output_frame, cv2.COLOR_BGR2RGB))\n",
    "    plt.axis(\"off\")\n",
    "    display(plt.gcf())\n",
    "    clear_output(wait=True)\n",
    "    time.sleep(0.01)\n",
    "\n",
    "    # Сохраняем\n",
    "    out.write(output_frame)\n",
    "\n",
    "# Освобождаем ресурсы\n",
    "cap.release()\n",
    "out.release()\n",
    "print(\"Обработка завершена. Результат в 'output_openpose.mp4'\")"
   ]
  }
 ],
 "metadata": {
  "kernelspec": {
   "display_name": "Python 3 (ipykernel)",
   "language": "python",
   "name": "python3"
  },
  "language_info": {
   "codemirror_mode": {
    "name": "ipython",
    "version": 3
   },
   "file_extension": ".py",
   "mimetype": "text/x-python",
   "name": "python",
   "nbconvert_exporter": "python",
   "pygments_lexer": "ipython3",
   "version": "3.9.13"
  }
 },
 "nbformat": 4,
 "nbformat_minor": 5
}
